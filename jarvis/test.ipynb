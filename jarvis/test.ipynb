{
 "cells": [
  {
   "cell_type": "code",
   "execution_count": null,
   "metadata": {
    "collapsed": false
   },
   "outputs": [],
   "source": [
    "%reload_ext ishbook\n",
    "import pandas as pd\n",
    "import json\n",
    "from IPython.display import display, HTML\n",
    "from jarvis import MapChart, TreeChart, SankeyChart, ForceGraph"
   ]
  },
  {
   "cell_type": "code",
   "execution_count": null,
   "metadata": {
    "collapsed": false
   },
   "outputs": [],
   "source": [
    "#%%iql2\n",
    "#tech = from indeedemployeesnapshot yesterday today\n",
    "#where group = \"Tech Services\"\n",
    "#group by full_name, manager_ldap"
   ]
  },
  {
   "cell_type": "code",
   "execution_count": null,
   "metadata": {
    "collapsed": true
   },
   "outputs": [],
   "source": [
    "#%%iql2\n",
    "#indeedians = from indeedemployeesnapshot yesterday today\n",
    "#group by ldap, full_name "
   ]
  },
  {
   "cell_type": "code",
   "execution_count": null,
   "metadata": {
    "collapsed": false
   },
   "outputs": [],
   "source": [
    "#indeedians = pd.read_csv('test/indeedians.csv')\n",
    "#indeedians.set_index('ldap', inplace=True)\n",
    "#tech['manager_name'] = tech['manager_ldap'].map(indeedians['full_name'])\n",
    "#display(HTML('Force Graph'))\n",
    "#tech_network = ForceGraph(tech, source_col = 'full_name', target_col = 'manager_name',  \n",
    "#                     canvas_height =600, canvas_width=600)\n",
    "\n",
    "#tech_network.show()"
   ]
  },
  {
   "cell_type": "code",
   "execution_count": null,
   "metadata": {
    "collapsed": false
   },
   "outputs": [],
   "source": [
    "route = pd.read_csv('test/route.csv')\n",
    "\n",
    "\n",
    "node_df = route.set_index('Sum of Flights_Count').stack().reset_index()\n",
    "node_df = node_df.groupby(0, as_index=False)[['Sum of Flights_Count']].sum()\n",
    "node_df.rename(columns = {0: 'airport'}, inplace=True)\n",
    "\n",
    "force_graph = ForceGraph(links_dataframe = route, \n",
    "                         source_column = 'Origin',\n",
    "                         target_column = 'Dest', \n",
    "                         nodes = node_df, \n",
    "                         nodes_name_column= 'airport', ##TODO:'\n",
    "                         nodes_tooltip_column = \"Sum of Flights_Count\", ##tooltip_column should be moved to addTooltip() method. \n",
    "                         canvas_height =800, canvas_width=600)\n",
    "force_graph.addTooltip().addLinkTooltip()\n",
    "force_graph.sizeNode(column ='Sum of Flights_Count', scale=1/6035.0)\n",
    "force_graph.addColor(column=\"airport\", options = {\"palette\":[\"#6363FF\", \"#FF7363\", \"#0a9700\"], \n",
    "                                                  \"stroke\": \"true\", \"fill\": \"true\", \"opacity\": 0.7,\n",
    "                                                  \"stroke-width\":2, \"stroke-opacity\": 0.5})\n",
    "force_graph.show()\n",
    "\n"
   ]
  },
  {
   "cell_type": "code",
   "execution_count": null,
   "metadata": {
    "collapsed": false
   },
   "outputs": [],
   "source": [
    "links = pd.DataFrame([{\"searches\":25,\"sourceCountry\":\"j\",\"targetCountry\":\"n\"},\n",
    "                      {\"searches\":37,\"sourceCountry\":\"o\",\"targetCountry\":\"j\"},\n",
    "                      {\"searches\":16,\"sourceCountry\":\"o\",\"targetCountry\":\"l\"},\n",
    "                      {\"searches\":8,\"sourceCountry\":\"o\",\"targetCountry\":\"m\"},\n",
    "                      {\"searches\":68,\"sourceCountry\":\"o\",\"targetCountry\":\"k\"},\n",
    "                      {\"searches\":154,\"sourceCountry\":\"g\",\"targetCountry\":\"o\"},\n",
    "                      {\"searches\":40,\"sourceCountry\":\"g\",\"targetCountry\":\"i\"},\n",
    "                      {\"searches\":345,\"sourceCountry\":\"b\",\"targetCountry\":\"g\"},\n",
    "                      {\"searches\":66,\"sourceCountry\":\"b\",\"targetCountry\":\"h\"},\n",
    "                      {\"searches\":17,\"sourceCountry\":\"b\",\"targetCountry\":\"d\"},\n",
    "                      {\"searches\":25,\"sourceCountry\":\"b\",\"targetCountry\":\"e\"},\n",
    "                      {\"searches\":117,\"sourceCountry\":\"b\",\"targetCountry\":\"f\"},\n",
    "                      {\"searches\":692,\"sourceCountry\":\"a\",\"targetCountry\":\"b\"},\n",
    "                      {\"searches\":19,\"sourceCountry\":\"a\",\"targetCountry\":\"c\"}])\n",
    "\n",
    "sankey_chart = SankeyChart(links, \n",
    "                    source_column = 'sourceCountry', \n",
    "                    target_column = 'targetCountry', \n",
    "                    value_column ='searches', \n",
    "                    canvas_width=500, canvas_height=400)\n",
    "\n",
    "sankey_chart.addLinkTooltip().show()"
   ]
  },
  {
   "cell_type": "code",
   "execution_count": null,
   "metadata": {
    "collapsed": false
   },
   "outputs": [],
   "source": [
    "got = pd.read_csv('test/got.csv')\n",
    "radial1 = TreeChart(dataframe = got, \n",
    "          child_column=\"actor\", \n",
    "          parent_column=\"to\", \n",
    "          diameter = 800)\n",
    "radial1.addTooltip( template = \"{actor} from {house} is casted by {name}.\")\n",
    "radial1.show()"
   ]
  },
  {
   "cell_type": "code",
   "execution_count": null,
   "metadata": {
    "collapsed": false
   },
   "outputs": [],
   "source": [
    "df = pd.read_csv('test/country_test.csv')\n",
    "chart_1 = MapChart(dataframe = df,\n",
    "          projection = \"mercator\", \n",
    "           region = \"world\", \n",
    "           unit = 'country', \n",
    "           value = 'searches', coerce_country=False)\\\n",
    ".addColor(options = {\"palette\": {\"min\":\"lightgreen\", \"max\": \"#456b01\"}, \"opacity\": 0.4})\\\n",
    ".addTooltip()\\\n",
    ".enableZoom()\n",
    "\n",
    "chart_1.show()"
   ]
  },
  {
   "cell_type": "code",
   "execution_count": null,
   "metadata": {
    "collapsed": false
   },
   "outputs": [],
   "source": [
    "chart_2 = MapChart(dataframe = df, \n",
    "       projection = \"orthographic\", \n",
    "       region = \"world\", \n",
    "       unit = 'country', \n",
    "       value = 'searches', coerce_country=False\n",
    "      )\\\n",
    ".addColor(options = {\"palette\": {\"min\":\"lightblue\", \"max\": \"steelblue\"}, \"opacity\": 0.5})\\\n",
    ".enableZoom()\\\n",
    ".enableClickToCenter()\\\n",
    ".addTooltip()\n",
    "\n",
    "chart_2.show()"
   ]
  },
  {
   "cell_type": "code",
   "execution_count": null,
   "metadata": {
    "collapsed": false
   },
   "outputs": [],
   "source": [
    "airports = pd.read_csv('test/airports.csv')\n",
    "airports=airports[airports['traffic'] > 8000]\n",
    "chart_3 = MapChart(dataframe = airports, \n",
    "       projection = \"albersUsa\", \n",
    "       region = \"US\", \n",
    "       unit = 'airport', \n",
    "       value = 'traffic',\n",
    "       canvas_height=800,\n",
    "       canvas_width = 1200\n",
    "      )\\\n",
    ".addTooltip()\\\n",
    ".addMarker({\"shape\":'circle', \"color\":\"steelblue\", \"scale\": 0.5, \"opacity\": 0.5})\n",
    "\n",
    "chart_3.show()\n"
   ]
  },
  {
   "cell_type": "code",
   "execution_count": null,
   "metadata": {
    "collapsed": true
   },
   "outputs": [],
   "source": []
  },
  {
   "cell_type": "code",
   "execution_count": null,
   "metadata": {
    "collapsed": true
   },
   "outputs": [],
   "source": []
  },
  {
   "cell_type": "code",
   "execution_count": null,
   "metadata": {
    "collapsed": true
   },
   "outputs": [],
   "source": []
  }
 ],
 "metadata": {
  "kernelspec": {
   "display_name": "Python 2",
   "language": "python",
   "name": "python2"
  },
  "language_info": {
   "codemirror_mode": {
    "name": "ipython",
    "version": 2
   },
   "file_extension": ".py",
   "mimetype": "text/x-python",
   "name": "python",
   "nbconvert_exporter": "python",
   "pygments_lexer": "ipython2",
   "version": "2.7.11"
  }
 },
 "nbformat": 4,
 "nbformat_minor": 1
}
