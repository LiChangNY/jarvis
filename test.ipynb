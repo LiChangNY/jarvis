{
 "cells": [
  {
   "cell_type": "code",
   "execution_count": 1,
   "metadata": {
    "collapsed": false
   },
   "outputs": [],
   "source": [
    "import pandas as pd\n",
    "import json\n",
    "from IPython.display import display, HTML"
   ]
  },
  {
   "cell_type": "code",
   "execution_count": 2,
   "metadata": {
    "collapsed": false
   },
   "outputs": [
    {
     "data": {
      "text/html": [
       "<div>\n",
       "<table border=\"1\" class=\"dataframe\">\n",
       "  <thead>\n",
       "    <tr style=\"text-align: right;\">\n",
       "      <th></th>\n",
       "      <th>country</th>\n",
       "      <th>searches</th>\n",
       "    </tr>\n",
       "  </thead>\n",
       "  <tbody>\n",
       "    <tr>\n",
       "      <th>0</th>\n",
       "      <td>Afghanistan</td>\n",
       "      <td>356</td>\n",
       "    </tr>\n",
       "    <tr>\n",
       "      <th>1</th>\n",
       "      <td>Angola</td>\n",
       "      <td>740</td>\n",
       "    </tr>\n",
       "    <tr>\n",
       "      <th>2</th>\n",
       "      <td>Albania</td>\n",
       "      <td>997</td>\n",
       "    </tr>\n",
       "    <tr>\n",
       "      <th>3</th>\n",
       "      <td>Aland</td>\n",
       "      <td>504</td>\n",
       "    </tr>\n",
       "    <tr>\n",
       "      <th>4</th>\n",
       "      <td>Andorra</td>\n",
       "      <td>370</td>\n",
       "    </tr>\n",
       "  </tbody>\n",
       "</table>\n",
       "</div>"
      ],
      "text/plain": [
       "       country  searches\n",
       "0  Afghanistan       356\n",
       "1       Angola       740\n",
       "2      Albania       997\n",
       "3        Aland       504\n",
       "4      Andorra       370"
      ]
     },
     "execution_count": 2,
     "metadata": {},
     "output_type": "execute_result"
    }
   ],
   "source": [
    "df = pd.read_csv('test/country_test.csv')\n",
    "df.head()"
   ]
  },
  {
   "cell_type": "code",
   "execution_count": 3,
   "metadata": {
    "collapsed": false,
    "scrolled": false
   },
   "outputs": [
    {
     "data": {
      "text/html": [
       "<script src='pyd3.min.js'></script>"
      ],
      "text/plain": [
       "<IPython.core.display.HTML object>"
      ]
     },
     "metadata": {},
     "output_type": "display_data"
    },
    {
     "data": {
      "text/html": [
       "<link media=\"all\" href=\"files/d3.pyd3.css\" type=\"text/css\"\n",
       "                  rel=\"stylesheet\"/>"
      ],
      "text/plain": [
       "<IPython.core.display.HTML object>"
      ]
     },
     "metadata": {},
     "output_type": "display_data"
    },
    {
     "data": {
      "text/html": [
       "<link rel=\"stylesheet\" href=\"files/jquery-ui.min.css\" type=\"text/css\"/>"
      ],
      "text/plain": [
       "<IPython.core.display.HTML object>"
      ]
     },
     "metadata": {},
     "output_type": "display_data"
    },
    {
     "data": {
      "text/html": [
       "<link rel=\"stylesheet\" href=\"files/sumoselect.css\" type=\"text/css\"/>"
      ],
      "text/plain": [
       "<IPython.core.display.HTML object>"
      ]
     },
     "metadata": {},
     "output_type": "display_data"
    },
    {
     "data": {
      "text/html": [
       "<script>console.log(\"Loaded libraries.\")</script>"
      ],
      "text/plain": [
       "<IPython.core.display.HTML object>"
      ]
     },
     "metadata": {},
     "output_type": "display_data"
    },
    {
     "name": "stdout",
     "output_type": "stream",
     "text": [
      "<jarvis.Jarvis object at 0x106feae50>\n"
     ]
    },
    {
     "data": {
      "text/html": [
       "<!DOCTYPE html>\n",
       "<html lang=\"en\">\n",
       "<head>\n",
       "    <meta charset=\"UTF-8\">\n",
       "</head>\n",
       "<body>\n",
       "\n",
       "\n",
       "<div id=\"Jarvis_1_map\"></div>\n",
       "\n",
       "<script type=\"text/javascript\">\n",
       "\n",
       "\n",
       "pyd3.MapChart(data = [{\"country\":\"Afghanistan\",\"searches\":356},{\"country\":\"Angola\",\"searches\":740},{\"country\":\"Albania\",\"searches\":997},{\"country\":\"Aland\",\"searches\":504},{\"country\":\"Andorra\",\"searches\":370},{\"country\":\"United Arab Emirates\",\"searches\":479},{\"country\":\"Argentina\",\"searches\":425},{\"country\":\"Armenia\",\"searches\":43},{\"country\":\"Antarctica\",\"searches\":513},{\"country\":\"Fr. S. Antarctic Lands\",\"searches\":727},{\"country\":\"Australia\",\"searches\":481},{\"country\":\"Austria\",\"searches\":218},{\"country\":\"Azerbaijan\",\"searches\":531},{\"country\":\"Burundi\",\"searches\":670},{\"country\":\"Belgium\",\"searches\":466},{\"country\":\"Benin\",\"searches\":323},{\"country\":\"Burkina Faso\",\"searches\":253},{\"country\":\"Bangladesh\",\"searches\":626},{\"country\":\"Bulgaria\",\"searches\":333},{\"country\":\"Bahrain\",\"searches\":194},{\"country\":\"Bahamas\",\"searches\":795},{\"country\":\"Bosnia and Herz.\",\"searches\":19},{\"country\":\"Belarus\",\"searches\":198},{\"country\":\"Belize\",\"searches\":555},{\"country\":\"Bolivia\",\"searches\":164},{\"country\":\"Brazil\",\"searches\":103},{\"country\":\"Barbados\",\"searches\":610},{\"country\":\"Brunei\",\"searches\":158},{\"country\":\"Bhutan\",\"searches\":327},{\"country\":\"Botswana\",\"searches\":800},{\"country\":\"Central African Rep.\",\"searches\":169},{\"country\":\"Canada\",\"searches\":87},{\"country\":\"Switzerland\",\"searches\":217},{\"country\":\"Chile\",\"searches\":846},{\"country\":\"China\",\"searches\":154},{\"country\":\"C\\u032bte d'Ivoire\",\"searches\":925},{\"country\":\"Cameroon\",\"searches\":34},{\"country\":\"Cyprus U.N. Buffer Zone\",\"searches\":696},{\"country\":\"Dem. Rep. Congo\",\"searches\":132},{\"country\":\"Congo\",\"searches\":622},{\"country\":\"Colombia\",\"searches\":476},{\"country\":\"Comoros\",\"searches\":352},{\"country\":\"Cape Verde\",\"searches\":273},{\"country\":\"Costa Rica\",\"searches\":324},{\"country\":\"Cuba\",\"searches\":242},{\"country\":\"Cura\\u0324ao\",\"searches\":193},{\"country\":\"N. Cyprus\",\"searches\":488},{\"country\":\"Cyprus\",\"searches\":160},{\"country\":\"Czech Rep.\",\"searches\":207},{\"country\":\"Germany\",\"searches\":559},{\"country\":\"Djibouti\",\"searches\":275},{\"country\":\"Dominica\",\"searches\":815},{\"country\":\"Denmark\",\"searches\":694},{\"country\":\"Dominican Rep.\",\"searches\":988},{\"country\":\"Algeria\",\"searches\":505},{\"country\":\"Ecuador\",\"searches\":121},{\"country\":\"Egypt\",\"searches\":521},{\"country\":\"Eritrea\",\"searches\":223},{\"country\":\"Dhekelia\",\"searches\":667},{\"country\":\"Spain\",\"searches\":274},{\"country\":\"Estonia\",\"searches\":374},{\"country\":\"Ethiopia\",\"searches\":301},{\"country\":\"Finland\",\"searches\":289},{\"country\":\"Fiji\",\"searches\":378},{\"country\":\"Falkland Is.\",\"searches\":467},{\"country\":\"France\",\"searches\":600},{\"country\":\"Faeroe Is.\",\"searches\":102},{\"country\":\"Micronesia\",\"searches\":966},{\"country\":\"Gabon\",\"searches\":222},{\"country\":\"United Kingdom\",\"searches\":858},{\"country\":\"Georgia\",\"searches\":72},{\"country\":\"Ghana\",\"searches\":215},{\"country\":\"Gibraltar\",\"searches\":402},{\"country\":\"Guinea\",\"searches\":711},{\"country\":\"Gambia\",\"searches\":891},{\"country\":\"Guinea-Bissau\",\"searches\":906},{\"country\":\"Eq. Guinea\",\"searches\":973},{\"country\":\"Greece\",\"searches\":304},{\"country\":\"Grenada\",\"searches\":733},{\"country\":\"Greenland\",\"searches\":921},{\"country\":\"Guatemala\",\"searches\":562},{\"country\":\"Guam\",\"searches\":144},{\"country\":\"Guyana\",\"searches\":603},{\"country\":\"Hong Kong\",\"searches\":138},{\"country\":\"Heard I. and McDonald Is.\",\"searches\":693},{\"country\":\"Honduras\",\"searches\":351},{\"country\":\"Croatia\",\"searches\":542},{\"country\":\"Haiti\",\"searches\":430},{\"country\":\"Hungary\",\"searches\":119},{\"country\":\"Indonesia\",\"searches\":849},{\"country\":\"Isle of Man\",\"searches\":580},{\"country\":\"India\",\"searches\":763},{\"country\":\"Ireland\",\"searches\":477},{\"country\":\"Iran\",\"searches\":691},{\"country\":\"Iraq\",\"searches\":556},{\"country\":\"Iceland\",\"searches\":320},{\"country\":\"Israel\",\"searches\":947},{\"country\":\"Italy\",\"searches\":1},{\"country\":\"Jamaica\",\"searches\":302},{\"country\":\"Jordan\",\"searches\":796},{\"country\":\"Japan\",\"searches\":669},{\"country\":\"Baikonur\",\"searches\":322},{\"country\":\"Siachen Glacier\",\"searches\":867},{\"country\":\"Kazakhstan\",\"searches\":520},{\"country\":\"Kenya\",\"searches\":862},{\"country\":\"Kyrgyzstan\",\"searches\":184},{\"country\":\"Cambodia\",\"searches\":373},{\"country\":\"Kiribati\",\"searches\":535},{\"country\":\"Korea\",\"searches\":805},{\"country\":\"Kosovo\",\"searches\":809},{\"country\":\"Kuwait\",\"searches\":678},{\"country\":\"Lao PDR\",\"searches\":35},{\"country\":\"Lebanon\",\"searches\":916},{\"country\":\"Liberia\",\"searches\":919},{\"country\":\"Libya\",\"searches\":507},{\"country\":\"Saint Lucia\",\"searches\":64},{\"country\":\"Liechtenstein\",\"searches\":741},{\"country\":\"Sri Lanka\",\"searches\":721},{\"country\":\"Lesotho\",\"searches\":243},{\"country\":\"Lithuania\",\"searches\":552},{\"country\":\"Luxembourg\",\"searches\":976},{\"country\":\"Latvia\",\"searches\":314},{\"country\":\"St-Martin\",\"searches\":335},{\"country\":\"Morocco\",\"searches\":719},{\"country\":\"Monaco\",\"searches\":583},{\"country\":\"Moldova\",\"searches\":494},{\"country\":\"Madagascar\",\"searches\":941},{\"country\":\"Mexico\",\"searches\":871},{\"country\":\"Macedonia\",\"searches\":227},{\"country\":\"Mali\",\"searches\":629},{\"country\":\"Myanmar\",\"searches\":789},{\"country\":\"Montenegro\",\"searches\":576},{\"country\":\"Mongolia\",\"searches\":851},{\"country\":\"Mozambique\",\"searches\":601},{\"country\":\"Mauritania\",\"searches\":245},{\"country\":\"Mauritius\",\"searches\":903},{\"country\":\"Malawi\",\"searches\":268},{\"country\":\"Malaysia\",\"searches\":225},{\"country\":\"Namibia\",\"searches\":291},{\"country\":\"New Caledonia\",\"searches\":686},{\"country\":\"Niger\",\"searches\":900},{\"country\":\"Nigeria\",\"searches\":447},{\"country\":\"Nicaragua\",\"searches\":454},{\"country\":\"Netherlands\",\"searches\":28},{\"country\":\"Norway\",\"searches\":497},{\"country\":\"Nepal\",\"searches\":423},{\"country\":\"New Zealand\",\"searches\":716},{\"country\":\"Oman\",\"searches\":450},{\"country\":\"Pakistan\",\"searches\":637},{\"country\":\"Panama\",\"searches\":536},{\"country\":\"Peru\",\"searches\":965},{\"country\":\"Philippines\",\"searches\":656},{\"country\":\"Palau\",\"searches\":680},{\"country\":\"Papua New Guinea\",\"searches\":821},{\"country\":\"Poland\",\"searches\":853},{\"country\":\"Puerto Rico\",\"searches\":415},{\"country\":\"Dem. Rep. Korea\",\"searches\":880},{\"country\":\"Portugal\",\"searches\":346},{\"country\":\"Paraguay\",\"searches\":47},{\"country\":\"Palestine\",\"searches\":219},{\"country\":\"Fr. Polynesia\",\"searches\":12},{\"country\":\"Qatar\",\"searches\":808},{\"country\":\"Romania\",\"searches\":527},{\"country\":\"Russia\",\"searches\":73},{\"country\":\"Rwanda\",\"searches\":357},{\"country\":\"W. Sahara\",\"searches\":76},{\"country\":\"Saudi Arabia\",\"searches\":52},{\"country\":\"Sudan\",\"searches\":220},{\"country\":\"S. Sudan\",\"searches\":441},{\"country\":\"Senegal\",\"searches\":188},{\"country\":\"Singapore\",\"searches\":930},{\"country\":\"S. Geo. and S. Sandw. Is.\",\"searches\":484},{\"country\":\"Solomon Is.\",\"searches\":105},{\"country\":\"Sierra Leone\",\"searches\":690},{\"country\":\"El Salvador\",\"searches\":45},{\"country\":\"San Marino\",\"searches\":79},{\"country\":\"Somaliland\",\"searches\":588},{\"country\":\"Somalia\",\"searches\":802},{\"country\":\"Serbia\",\"searches\":798},{\"country\":\"S\\u0323o Tom\\u0329 and Principe\",\"searches\":855},{\"country\":\"Suriname\",\"searches\":460},{\"country\":\"Slovakia\",\"searches\":838},{\"country\":\"Slovenia\",\"searches\":92},{\"country\":\"Sweden\",\"searches\":566},{\"country\":\"Swaziland\",\"searches\":241},{\"country\":\"Sint Maarten\",\"searches\":887},{\"country\":\"Syria\",\"searches\":651},{\"country\":\"Chad\",\"searches\":502},{\"country\":\"Togo\",\"searches\":964},{\"country\":\"Thailand\",\"searches\":411},{\"country\":\"Tajikistan\",\"searches\":857},{\"country\":\"Turkmenistan\",\"searches\":655},{\"country\":\"Timor-Leste\",\"searches\":745},{\"country\":\"Tonga\",\"searches\":231},{\"country\":\"Trinidad and Tobago\",\"searches\":33},{\"country\":\"Tunisia\",\"searches\":250},{\"country\":\"Turkey\",\"searches\":592},{\"country\":\"Taiwan\",\"searches\":512},{\"country\":\"Tanzania\",\"searches\":854},{\"country\":\"Uganda\",\"searches\":473},{\"country\":\"Ukraine\",\"searches\":621},{\"country\":\"Uruguay\",\"searches\":617},{\"country\":\"United States\",\"searches\":510},{\"country\":\"USNB Guantanamo Bay\",\"searches\":5},{\"country\":\"Uzbekistan\",\"searches\":67},{\"country\":\"Vatican\",\"searches\":729},{\"country\":\"St. Vin. and Gren.\",\"searches\":20},{\"country\":\"Venezuela\",\"searches\":155},{\"country\":\"Vietnam\",\"searches\":955},{\"country\":\"Vanuatu\",\"searches\":832},{\"country\":\"Akrotiri\",\"searches\":328},{\"country\":\"Samoa\",\"searches\":9},{\"country\":\"Yemen\",\"searches\":380},{\"country\":\"South Africa\",\"searches\":785},{\"country\":\"Zambia\",\"searches\":37},{\"country\":\"Zimbabwe\",\"searches\":496}], {\"_id\": \"Jarvis_1_map\", \"enable_click_to_center\": false, \"geo_value_column\": \"searches\", \"TEMPLATE_FILE\": \"chartBuilder.html\", \"geo_unit_column\": \"country\", \"df_json\": \"[{\\\"country\\\":\\\"Afghanistan\\\",\\\"searches\\\":356},{\\\"country\\\":\\\"Angola\\\",\\\"searches\\\":740},{\\\"country\\\":\\\"Albania\\\",\\\"searches\\\":997},{\\\"country\\\":\\\"Aland\\\",\\\"searches\\\":504},{\\\"country\\\":\\\"Andorra\\\",\\\"searches\\\":370},{\\\"country\\\":\\\"United Arab Emirates\\\",\\\"searches\\\":479},{\\\"country\\\":\\\"Argentina\\\",\\\"searches\\\":425},{\\\"country\\\":\\\"Armenia\\\",\\\"searches\\\":43},{\\\"country\\\":\\\"Antarctica\\\",\\\"searches\\\":513},{\\\"country\\\":\\\"Fr. S. Antarctic Lands\\\",\\\"searches\\\":727},{\\\"country\\\":\\\"Australia\\\",\\\"searches\\\":481},{\\\"country\\\":\\\"Austria\\\",\\\"searches\\\":218},{\\\"country\\\":\\\"Azerbaijan\\\",\\\"searches\\\":531},{\\\"country\\\":\\\"Burundi\\\",\\\"searches\\\":670},{\\\"country\\\":\\\"Belgium\\\",\\\"searches\\\":466},{\\\"country\\\":\\\"Benin\\\",\\\"searches\\\":323},{\\\"country\\\":\\\"Burkina Faso\\\",\\\"searches\\\":253},{\\\"country\\\":\\\"Bangladesh\\\",\\\"searches\\\":626},{\\\"country\\\":\\\"Bulgaria\\\",\\\"searches\\\":333},{\\\"country\\\":\\\"Bahrain\\\",\\\"searches\\\":194},{\\\"country\\\":\\\"Bahamas\\\",\\\"searches\\\":795},{\\\"country\\\":\\\"Bosnia and Herz.\\\",\\\"searches\\\":19},{\\\"country\\\":\\\"Belarus\\\",\\\"searches\\\":198},{\\\"country\\\":\\\"Belize\\\",\\\"searches\\\":555},{\\\"country\\\":\\\"Bolivia\\\",\\\"searches\\\":164},{\\\"country\\\":\\\"Brazil\\\",\\\"searches\\\":103},{\\\"country\\\":\\\"Barbados\\\",\\\"searches\\\":610},{\\\"country\\\":\\\"Brunei\\\",\\\"searches\\\":158},{\\\"country\\\":\\\"Bhutan\\\",\\\"searches\\\":327},{\\\"country\\\":\\\"Botswana\\\",\\\"searches\\\":800},{\\\"country\\\":\\\"Central African Rep.\\\",\\\"searches\\\":169},{\\\"country\\\":\\\"Canada\\\",\\\"searches\\\":87},{\\\"country\\\":\\\"Switzerland\\\",\\\"searches\\\":217},{\\\"country\\\":\\\"Chile\\\",\\\"searches\\\":846},{\\\"country\\\":\\\"China\\\",\\\"searches\\\":154},{\\\"country\\\":\\\"C\\\\u032bte d'Ivoire\\\",\\\"searches\\\":925},{\\\"country\\\":\\\"Cameroon\\\",\\\"searches\\\":34},{\\\"country\\\":\\\"Cyprus U.N. Buffer Zone\\\",\\\"searches\\\":696},{\\\"country\\\":\\\"Dem. Rep. Congo\\\",\\\"searches\\\":132},{\\\"country\\\":\\\"Congo\\\",\\\"searches\\\":622},{\\\"country\\\":\\\"Colombia\\\",\\\"searches\\\":476},{\\\"country\\\":\\\"Comoros\\\",\\\"searches\\\":352},{\\\"country\\\":\\\"Cape Verde\\\",\\\"searches\\\":273},{\\\"country\\\":\\\"Costa Rica\\\",\\\"searches\\\":324},{\\\"country\\\":\\\"Cuba\\\",\\\"searches\\\":242},{\\\"country\\\":\\\"Cura\\\\u0324ao\\\",\\\"searches\\\":193},{\\\"country\\\":\\\"N. Cyprus\\\",\\\"searches\\\":488},{\\\"country\\\":\\\"Cyprus\\\",\\\"searches\\\":160},{\\\"country\\\":\\\"Czech Rep.\\\",\\\"searches\\\":207},{\\\"country\\\":\\\"Germany\\\",\\\"searches\\\":559},{\\\"country\\\":\\\"Djibouti\\\",\\\"searches\\\":275},{\\\"country\\\":\\\"Dominica\\\",\\\"searches\\\":815},{\\\"country\\\":\\\"Denmark\\\",\\\"searches\\\":694},{\\\"country\\\":\\\"Dominican Rep.\\\",\\\"searches\\\":988},{\\\"country\\\":\\\"Algeria\\\",\\\"searches\\\":505},{\\\"country\\\":\\\"Ecuador\\\",\\\"searches\\\":121},{\\\"country\\\":\\\"Egypt\\\",\\\"searches\\\":521},{\\\"country\\\":\\\"Eritrea\\\",\\\"searches\\\":223},{\\\"country\\\":\\\"Dhekelia\\\",\\\"searches\\\":667},{\\\"country\\\":\\\"Spain\\\",\\\"searches\\\":274},{\\\"country\\\":\\\"Estonia\\\",\\\"searches\\\":374},{\\\"country\\\":\\\"Ethiopia\\\",\\\"searches\\\":301},{\\\"country\\\":\\\"Finland\\\",\\\"searches\\\":289},{\\\"country\\\":\\\"Fiji\\\",\\\"searches\\\":378},{\\\"country\\\":\\\"Falkland Is.\\\",\\\"searches\\\":467},{\\\"country\\\":\\\"France\\\",\\\"searches\\\":600},{\\\"country\\\":\\\"Faeroe Is.\\\",\\\"searches\\\":102},{\\\"country\\\":\\\"Micronesia\\\",\\\"searches\\\":966},{\\\"country\\\":\\\"Gabon\\\",\\\"searches\\\":222},{\\\"country\\\":\\\"United Kingdom\\\",\\\"searches\\\":858},{\\\"country\\\":\\\"Georgia\\\",\\\"searches\\\":72},{\\\"country\\\":\\\"Ghana\\\",\\\"searches\\\":215},{\\\"country\\\":\\\"Gibraltar\\\",\\\"searches\\\":402},{\\\"country\\\":\\\"Guinea\\\",\\\"searches\\\":711},{\\\"country\\\":\\\"Gambia\\\",\\\"searches\\\":891},{\\\"country\\\":\\\"Guinea-Bissau\\\",\\\"searches\\\":906},{\\\"country\\\":\\\"Eq. Guinea\\\",\\\"searches\\\":973},{\\\"country\\\":\\\"Greece\\\",\\\"searches\\\":304},{\\\"country\\\":\\\"Grenada\\\",\\\"searches\\\":733},{\\\"country\\\":\\\"Greenland\\\",\\\"searches\\\":921},{\\\"country\\\":\\\"Guatemala\\\",\\\"searches\\\":562},{\\\"country\\\":\\\"Guam\\\",\\\"searches\\\":144},{\\\"country\\\":\\\"Guyana\\\",\\\"searches\\\":603},{\\\"country\\\":\\\"Hong Kong\\\",\\\"searches\\\":138},{\\\"country\\\":\\\"Heard I. and McDonald Is.\\\",\\\"searches\\\":693},{\\\"country\\\":\\\"Honduras\\\",\\\"searches\\\":351},{\\\"country\\\":\\\"Croatia\\\",\\\"searches\\\":542},{\\\"country\\\":\\\"Haiti\\\",\\\"searches\\\":430},{\\\"country\\\":\\\"Hungary\\\",\\\"searches\\\":119},{\\\"country\\\":\\\"Indonesia\\\",\\\"searches\\\":849},{\\\"country\\\":\\\"Isle of Man\\\",\\\"searches\\\":580},{\\\"country\\\":\\\"India\\\",\\\"searches\\\":763},{\\\"country\\\":\\\"Ireland\\\",\\\"searches\\\":477},{\\\"country\\\":\\\"Iran\\\",\\\"searches\\\":691},{\\\"country\\\":\\\"Iraq\\\",\\\"searches\\\":556},{\\\"country\\\":\\\"Iceland\\\",\\\"searches\\\":320},{\\\"country\\\":\\\"Israel\\\",\\\"searches\\\":947},{\\\"country\\\":\\\"Italy\\\",\\\"searches\\\":1},{\\\"country\\\":\\\"Jamaica\\\",\\\"searches\\\":302},{\\\"country\\\":\\\"Jordan\\\",\\\"searches\\\":796},{\\\"country\\\":\\\"Japan\\\",\\\"searches\\\":669},{\\\"country\\\":\\\"Baikonur\\\",\\\"searches\\\":322},{\\\"country\\\":\\\"Siachen Glacier\\\",\\\"searches\\\":867},{\\\"country\\\":\\\"Kazakhstan\\\",\\\"searches\\\":520},{\\\"country\\\":\\\"Kenya\\\",\\\"searches\\\":862},{\\\"country\\\":\\\"Kyrgyzstan\\\",\\\"searches\\\":184},{\\\"country\\\":\\\"Cambodia\\\",\\\"searches\\\":373},{\\\"country\\\":\\\"Kiribati\\\",\\\"searches\\\":535},{\\\"country\\\":\\\"Korea\\\",\\\"searches\\\":805},{\\\"country\\\":\\\"Kosovo\\\",\\\"searches\\\":809},{\\\"country\\\":\\\"Kuwait\\\",\\\"searches\\\":678},{\\\"country\\\":\\\"Lao PDR\\\",\\\"searches\\\":35},{\\\"country\\\":\\\"Lebanon\\\",\\\"searches\\\":916},{\\\"country\\\":\\\"Liberia\\\",\\\"searches\\\":919},{\\\"country\\\":\\\"Libya\\\",\\\"searches\\\":507},{\\\"country\\\":\\\"Saint Lucia\\\",\\\"searches\\\":64},{\\\"country\\\":\\\"Liechtenstein\\\",\\\"searches\\\":741},{\\\"country\\\":\\\"Sri Lanka\\\",\\\"searches\\\":721},{\\\"country\\\":\\\"Lesotho\\\",\\\"searches\\\":243},{\\\"country\\\":\\\"Lithuania\\\",\\\"searches\\\":552},{\\\"country\\\":\\\"Luxembourg\\\",\\\"searches\\\":976},{\\\"country\\\":\\\"Latvia\\\",\\\"searches\\\":314},{\\\"country\\\":\\\"St-Martin\\\",\\\"searches\\\":335},{\\\"country\\\":\\\"Morocco\\\",\\\"searches\\\":719},{\\\"country\\\":\\\"Monaco\\\",\\\"searches\\\":583},{\\\"country\\\":\\\"Moldova\\\",\\\"searches\\\":494},{\\\"country\\\":\\\"Madagascar\\\",\\\"searches\\\":941},{\\\"country\\\":\\\"Mexico\\\",\\\"searches\\\":871},{\\\"country\\\":\\\"Macedonia\\\",\\\"searches\\\":227},{\\\"country\\\":\\\"Mali\\\",\\\"searches\\\":629},{\\\"country\\\":\\\"Myanmar\\\",\\\"searches\\\":789},{\\\"country\\\":\\\"Montenegro\\\",\\\"searches\\\":576},{\\\"country\\\":\\\"Mongolia\\\",\\\"searches\\\":851},{\\\"country\\\":\\\"Mozambique\\\",\\\"searches\\\":601},{\\\"country\\\":\\\"Mauritania\\\",\\\"searches\\\":245},{\\\"country\\\":\\\"Mauritius\\\",\\\"searches\\\":903},{\\\"country\\\":\\\"Malawi\\\",\\\"searches\\\":268},{\\\"country\\\":\\\"Malaysia\\\",\\\"searches\\\":225},{\\\"country\\\":\\\"Namibia\\\",\\\"searches\\\":291},{\\\"country\\\":\\\"New Caledonia\\\",\\\"searches\\\":686},{\\\"country\\\":\\\"Niger\\\",\\\"searches\\\":900},{\\\"country\\\":\\\"Nigeria\\\",\\\"searches\\\":447},{\\\"country\\\":\\\"Nicaragua\\\",\\\"searches\\\":454},{\\\"country\\\":\\\"Netherlands\\\",\\\"searches\\\":28},{\\\"country\\\":\\\"Norway\\\",\\\"searches\\\":497},{\\\"country\\\":\\\"Nepal\\\",\\\"searches\\\":423},{\\\"country\\\":\\\"New Zealand\\\",\\\"searches\\\":716},{\\\"country\\\":\\\"Oman\\\",\\\"searches\\\":450},{\\\"country\\\":\\\"Pakistan\\\",\\\"searches\\\":637},{\\\"country\\\":\\\"Panama\\\",\\\"searches\\\":536},{\\\"country\\\":\\\"Peru\\\",\\\"searches\\\":965},{\\\"country\\\":\\\"Philippines\\\",\\\"searches\\\":656},{\\\"country\\\":\\\"Palau\\\",\\\"searches\\\":680},{\\\"country\\\":\\\"Papua New Guinea\\\",\\\"searches\\\":821},{\\\"country\\\":\\\"Poland\\\",\\\"searches\\\":853},{\\\"country\\\":\\\"Puerto Rico\\\",\\\"searches\\\":415},{\\\"country\\\":\\\"Dem. Rep. Korea\\\",\\\"searches\\\":880},{\\\"country\\\":\\\"Portugal\\\",\\\"searches\\\":346},{\\\"country\\\":\\\"Paraguay\\\",\\\"searches\\\":47},{\\\"country\\\":\\\"Palestine\\\",\\\"searches\\\":219},{\\\"country\\\":\\\"Fr. Polynesia\\\",\\\"searches\\\":12},{\\\"country\\\":\\\"Qatar\\\",\\\"searches\\\":808},{\\\"country\\\":\\\"Romania\\\",\\\"searches\\\":527},{\\\"country\\\":\\\"Russia\\\",\\\"searches\\\":73},{\\\"country\\\":\\\"Rwanda\\\",\\\"searches\\\":357},{\\\"country\\\":\\\"W. Sahara\\\",\\\"searches\\\":76},{\\\"country\\\":\\\"Saudi Arabia\\\",\\\"searches\\\":52},{\\\"country\\\":\\\"Sudan\\\",\\\"searches\\\":220},{\\\"country\\\":\\\"S. Sudan\\\",\\\"searches\\\":441},{\\\"country\\\":\\\"Senegal\\\",\\\"searches\\\":188},{\\\"country\\\":\\\"Singapore\\\",\\\"searches\\\":930},{\\\"country\\\":\\\"S. Geo. and S. Sandw. Is.\\\",\\\"searches\\\":484},{\\\"country\\\":\\\"Solomon Is.\\\",\\\"searches\\\":105},{\\\"country\\\":\\\"Sierra Leone\\\",\\\"searches\\\":690},{\\\"country\\\":\\\"El Salvador\\\",\\\"searches\\\":45},{\\\"country\\\":\\\"San Marino\\\",\\\"searches\\\":79},{\\\"country\\\":\\\"Somaliland\\\",\\\"searches\\\":588},{\\\"country\\\":\\\"Somalia\\\",\\\"searches\\\":802},{\\\"country\\\":\\\"Serbia\\\",\\\"searches\\\":798},{\\\"country\\\":\\\"S\\\\u0323o Tom\\\\u0329 and Principe\\\",\\\"searches\\\":855},{\\\"country\\\":\\\"Suriname\\\",\\\"searches\\\":460},{\\\"country\\\":\\\"Slovakia\\\",\\\"searches\\\":838},{\\\"country\\\":\\\"Slovenia\\\",\\\"searches\\\":92},{\\\"country\\\":\\\"Sweden\\\",\\\"searches\\\":566},{\\\"country\\\":\\\"Swaziland\\\",\\\"searches\\\":241},{\\\"country\\\":\\\"Sint Maarten\\\",\\\"searches\\\":887},{\\\"country\\\":\\\"Syria\\\",\\\"searches\\\":651},{\\\"country\\\":\\\"Chad\\\",\\\"searches\\\":502},{\\\"country\\\":\\\"Togo\\\",\\\"searches\\\":964},{\\\"country\\\":\\\"Thailand\\\",\\\"searches\\\":411},{\\\"country\\\":\\\"Tajikistan\\\",\\\"searches\\\":857},{\\\"country\\\":\\\"Turkmenistan\\\",\\\"searches\\\":655},{\\\"country\\\":\\\"Timor-Leste\\\",\\\"searches\\\":745},{\\\"country\\\":\\\"Tonga\\\",\\\"searches\\\":231},{\\\"country\\\":\\\"Trinidad and Tobago\\\",\\\"searches\\\":33},{\\\"country\\\":\\\"Tunisia\\\",\\\"searches\\\":250},{\\\"country\\\":\\\"Turkey\\\",\\\"searches\\\":592},{\\\"country\\\":\\\"Taiwan\\\",\\\"searches\\\":512},{\\\"country\\\":\\\"Tanzania\\\",\\\"searches\\\":854},{\\\"country\\\":\\\"Uganda\\\",\\\"searches\\\":473},{\\\"country\\\":\\\"Ukraine\\\",\\\"searches\\\":621},{\\\"country\\\":\\\"Uruguay\\\",\\\"searches\\\":617},{\\\"country\\\":\\\"United States\\\",\\\"searches\\\":510},{\\\"country\\\":\\\"USNB Guantanamo Bay\\\",\\\"searches\\\":5},{\\\"country\\\":\\\"Uzbekistan\\\",\\\"searches\\\":67},{\\\"country\\\":\\\"Vatican\\\",\\\"searches\\\":729},{\\\"country\\\":\\\"St. Vin. and Gren.\\\",\\\"searches\\\":20},{\\\"country\\\":\\\"Venezuela\\\",\\\"searches\\\":155},{\\\"country\\\":\\\"Vietnam\\\",\\\"searches\\\":955},{\\\"country\\\":\\\"Vanuatu\\\",\\\"searches\\\":832},{\\\"country\\\":\\\"Akrotiri\\\",\\\"searches\\\":328},{\\\"country\\\":\\\"Samoa\\\",\\\"searches\\\":9},{\\\"country\\\":\\\"Yemen\\\",\\\"searches\\\":380},{\\\"country\\\":\\\"South Africa\\\",\\\"searches\\\":785},{\\\"country\\\":\\\"Zambia\\\",\\\"searches\\\":37},{\\\"country\\\":\\\"Zimbabwe\\\",\\\"searches\\\":496}]\", \"enable_zoom\": false, \"chart_type\": \"map\", \"filters\": null, \"map_type\": \"world\", \"model\": \"Jarvis\", \"series_count\": 2})\n",
       "\n",
       "</script>\n",
       "\n",
       "</body>\n",
       "</html>"
      ],
      "text/plain": [
       "<IPython.core.display.HTML object>"
      ]
     },
     "metadata": {},
     "output_type": "display_data"
    }
   ],
   "source": [
    "from jarvis import Jarvis\n",
    "\n",
    "chart = Jarvis(dataframe = df, chart_type = \"map\", map_type = \"world\" ,\n",
    "              unit = 'country', values = 'searches')\n",
    "print chart\n",
    "chart.show()"
   ]
  },
  {
   "cell_type": "code",
   "execution_count": 4,
   "metadata": {
    "collapsed": false
   },
   "outputs": [
    {
     "data": {
      "text/html": [
       "<!DOCTYPE html>\n",
       "<html lang=\"en\">\n",
       "<head>\n",
       "    <meta charset=\"UTF-8\">\n",
       "</head>\n",
       "<body>\n",
       "\n",
       "\n",
       "<div id=\"Jarvis_2_map\"></div>\n",
       "\n",
       "<script type=\"text/javascript\">\n",
       "\n",
       "\n",
       "pyd3.MapChart(data = [{\"country\":\"Afghanistan\",\"searches\":356},{\"country\":\"Angola\",\"searches\":740},{\"country\":\"Albania\",\"searches\":997},{\"country\":\"Aland\",\"searches\":504},{\"country\":\"Andorra\",\"searches\":370},{\"country\":\"United Arab Emirates\",\"searches\":479},{\"country\":\"Argentina\",\"searches\":425},{\"country\":\"Armenia\",\"searches\":43},{\"country\":\"Antarctica\",\"searches\":513},{\"country\":\"Fr. S. Antarctic Lands\",\"searches\":727},{\"country\":\"Australia\",\"searches\":481},{\"country\":\"Austria\",\"searches\":218},{\"country\":\"Azerbaijan\",\"searches\":531},{\"country\":\"Burundi\",\"searches\":670},{\"country\":\"Belgium\",\"searches\":466},{\"country\":\"Benin\",\"searches\":323},{\"country\":\"Burkina Faso\",\"searches\":253},{\"country\":\"Bangladesh\",\"searches\":626},{\"country\":\"Bulgaria\",\"searches\":333},{\"country\":\"Bahrain\",\"searches\":194},{\"country\":\"Bahamas\",\"searches\":795},{\"country\":\"Bosnia and Herz.\",\"searches\":19},{\"country\":\"Belarus\",\"searches\":198},{\"country\":\"Belize\",\"searches\":555},{\"country\":\"Bolivia\",\"searches\":164},{\"country\":\"Brazil\",\"searches\":103},{\"country\":\"Barbados\",\"searches\":610},{\"country\":\"Brunei\",\"searches\":158},{\"country\":\"Bhutan\",\"searches\":327},{\"country\":\"Botswana\",\"searches\":800},{\"country\":\"Central African Rep.\",\"searches\":169},{\"country\":\"Canada\",\"searches\":87},{\"country\":\"Switzerland\",\"searches\":217},{\"country\":\"Chile\",\"searches\":846},{\"country\":\"China\",\"searches\":154},{\"country\":\"C\\u032bte d'Ivoire\",\"searches\":925},{\"country\":\"Cameroon\",\"searches\":34},{\"country\":\"Cyprus U.N. Buffer Zone\",\"searches\":696},{\"country\":\"Dem. Rep. Congo\",\"searches\":132},{\"country\":\"Congo\",\"searches\":622},{\"country\":\"Colombia\",\"searches\":476},{\"country\":\"Comoros\",\"searches\":352},{\"country\":\"Cape Verde\",\"searches\":273},{\"country\":\"Costa Rica\",\"searches\":324},{\"country\":\"Cuba\",\"searches\":242},{\"country\":\"Cura\\u0324ao\",\"searches\":193},{\"country\":\"N. Cyprus\",\"searches\":488},{\"country\":\"Cyprus\",\"searches\":160},{\"country\":\"Czech Rep.\",\"searches\":207},{\"country\":\"Germany\",\"searches\":559},{\"country\":\"Djibouti\",\"searches\":275},{\"country\":\"Dominica\",\"searches\":815},{\"country\":\"Denmark\",\"searches\":694},{\"country\":\"Dominican Rep.\",\"searches\":988},{\"country\":\"Algeria\",\"searches\":505},{\"country\":\"Ecuador\",\"searches\":121},{\"country\":\"Egypt\",\"searches\":521},{\"country\":\"Eritrea\",\"searches\":223},{\"country\":\"Dhekelia\",\"searches\":667},{\"country\":\"Spain\",\"searches\":274},{\"country\":\"Estonia\",\"searches\":374},{\"country\":\"Ethiopia\",\"searches\":301},{\"country\":\"Finland\",\"searches\":289},{\"country\":\"Fiji\",\"searches\":378},{\"country\":\"Falkland Is.\",\"searches\":467},{\"country\":\"France\",\"searches\":600},{\"country\":\"Faeroe Is.\",\"searches\":102},{\"country\":\"Micronesia\",\"searches\":966},{\"country\":\"Gabon\",\"searches\":222},{\"country\":\"United Kingdom\",\"searches\":858},{\"country\":\"Georgia\",\"searches\":72},{\"country\":\"Ghana\",\"searches\":215},{\"country\":\"Gibraltar\",\"searches\":402},{\"country\":\"Guinea\",\"searches\":711},{\"country\":\"Gambia\",\"searches\":891},{\"country\":\"Guinea-Bissau\",\"searches\":906},{\"country\":\"Eq. Guinea\",\"searches\":973},{\"country\":\"Greece\",\"searches\":304},{\"country\":\"Grenada\",\"searches\":733},{\"country\":\"Greenland\",\"searches\":921},{\"country\":\"Guatemala\",\"searches\":562},{\"country\":\"Guam\",\"searches\":144},{\"country\":\"Guyana\",\"searches\":603},{\"country\":\"Hong Kong\",\"searches\":138},{\"country\":\"Heard I. and McDonald Is.\",\"searches\":693},{\"country\":\"Honduras\",\"searches\":351},{\"country\":\"Croatia\",\"searches\":542},{\"country\":\"Haiti\",\"searches\":430},{\"country\":\"Hungary\",\"searches\":119},{\"country\":\"Indonesia\",\"searches\":849},{\"country\":\"Isle of Man\",\"searches\":580},{\"country\":\"India\",\"searches\":763},{\"country\":\"Ireland\",\"searches\":477},{\"country\":\"Iran\",\"searches\":691},{\"country\":\"Iraq\",\"searches\":556},{\"country\":\"Iceland\",\"searches\":320},{\"country\":\"Israel\",\"searches\":947},{\"country\":\"Italy\",\"searches\":1},{\"country\":\"Jamaica\",\"searches\":302},{\"country\":\"Jordan\",\"searches\":796},{\"country\":\"Japan\",\"searches\":669},{\"country\":\"Baikonur\",\"searches\":322},{\"country\":\"Siachen Glacier\",\"searches\":867},{\"country\":\"Kazakhstan\",\"searches\":520},{\"country\":\"Kenya\",\"searches\":862},{\"country\":\"Kyrgyzstan\",\"searches\":184},{\"country\":\"Cambodia\",\"searches\":373},{\"country\":\"Kiribati\",\"searches\":535},{\"country\":\"Korea\",\"searches\":805},{\"country\":\"Kosovo\",\"searches\":809},{\"country\":\"Kuwait\",\"searches\":678},{\"country\":\"Lao PDR\",\"searches\":35},{\"country\":\"Lebanon\",\"searches\":916},{\"country\":\"Liberia\",\"searches\":919},{\"country\":\"Libya\",\"searches\":507},{\"country\":\"Saint Lucia\",\"searches\":64},{\"country\":\"Liechtenstein\",\"searches\":741},{\"country\":\"Sri Lanka\",\"searches\":721},{\"country\":\"Lesotho\",\"searches\":243},{\"country\":\"Lithuania\",\"searches\":552},{\"country\":\"Luxembourg\",\"searches\":976},{\"country\":\"Latvia\",\"searches\":314},{\"country\":\"St-Martin\",\"searches\":335},{\"country\":\"Morocco\",\"searches\":719},{\"country\":\"Monaco\",\"searches\":583},{\"country\":\"Moldova\",\"searches\":494},{\"country\":\"Madagascar\",\"searches\":941},{\"country\":\"Mexico\",\"searches\":871},{\"country\":\"Macedonia\",\"searches\":227},{\"country\":\"Mali\",\"searches\":629},{\"country\":\"Myanmar\",\"searches\":789},{\"country\":\"Montenegro\",\"searches\":576},{\"country\":\"Mongolia\",\"searches\":851},{\"country\":\"Mozambique\",\"searches\":601},{\"country\":\"Mauritania\",\"searches\":245},{\"country\":\"Mauritius\",\"searches\":903},{\"country\":\"Malawi\",\"searches\":268},{\"country\":\"Malaysia\",\"searches\":225},{\"country\":\"Namibia\",\"searches\":291},{\"country\":\"New Caledonia\",\"searches\":686},{\"country\":\"Niger\",\"searches\":900},{\"country\":\"Nigeria\",\"searches\":447},{\"country\":\"Nicaragua\",\"searches\":454},{\"country\":\"Netherlands\",\"searches\":28},{\"country\":\"Norway\",\"searches\":497},{\"country\":\"Nepal\",\"searches\":423},{\"country\":\"New Zealand\",\"searches\":716},{\"country\":\"Oman\",\"searches\":450},{\"country\":\"Pakistan\",\"searches\":637},{\"country\":\"Panama\",\"searches\":536},{\"country\":\"Peru\",\"searches\":965},{\"country\":\"Philippines\",\"searches\":656},{\"country\":\"Palau\",\"searches\":680},{\"country\":\"Papua New Guinea\",\"searches\":821},{\"country\":\"Poland\",\"searches\":853},{\"country\":\"Puerto Rico\",\"searches\":415},{\"country\":\"Dem. Rep. Korea\",\"searches\":880},{\"country\":\"Portugal\",\"searches\":346},{\"country\":\"Paraguay\",\"searches\":47},{\"country\":\"Palestine\",\"searches\":219},{\"country\":\"Fr. Polynesia\",\"searches\":12},{\"country\":\"Qatar\",\"searches\":808},{\"country\":\"Romania\",\"searches\":527},{\"country\":\"Russia\",\"searches\":73},{\"country\":\"Rwanda\",\"searches\":357},{\"country\":\"W. Sahara\",\"searches\":76},{\"country\":\"Saudi Arabia\",\"searches\":52},{\"country\":\"Sudan\",\"searches\":220},{\"country\":\"S. Sudan\",\"searches\":441},{\"country\":\"Senegal\",\"searches\":188},{\"country\":\"Singapore\",\"searches\":930},{\"country\":\"S. Geo. and S. Sandw. Is.\",\"searches\":484},{\"country\":\"Solomon Is.\",\"searches\":105},{\"country\":\"Sierra Leone\",\"searches\":690},{\"country\":\"El Salvador\",\"searches\":45},{\"country\":\"San Marino\",\"searches\":79},{\"country\":\"Somaliland\",\"searches\":588},{\"country\":\"Somalia\",\"searches\":802},{\"country\":\"Serbia\",\"searches\":798},{\"country\":\"S\\u0323o Tom\\u0329 and Principe\",\"searches\":855},{\"country\":\"Suriname\",\"searches\":460},{\"country\":\"Slovakia\",\"searches\":838},{\"country\":\"Slovenia\",\"searches\":92},{\"country\":\"Sweden\",\"searches\":566},{\"country\":\"Swaziland\",\"searches\":241},{\"country\":\"Sint Maarten\",\"searches\":887},{\"country\":\"Syria\",\"searches\":651},{\"country\":\"Chad\",\"searches\":502},{\"country\":\"Togo\",\"searches\":964},{\"country\":\"Thailand\",\"searches\":411},{\"country\":\"Tajikistan\",\"searches\":857},{\"country\":\"Turkmenistan\",\"searches\":655},{\"country\":\"Timor-Leste\",\"searches\":745},{\"country\":\"Tonga\",\"searches\":231},{\"country\":\"Trinidad and Tobago\",\"searches\":33},{\"country\":\"Tunisia\",\"searches\":250},{\"country\":\"Turkey\",\"searches\":592},{\"country\":\"Taiwan\",\"searches\":512},{\"country\":\"Tanzania\",\"searches\":854},{\"country\":\"Uganda\",\"searches\":473},{\"country\":\"Ukraine\",\"searches\":621},{\"country\":\"Uruguay\",\"searches\":617},{\"country\":\"United States\",\"searches\":510},{\"country\":\"USNB Guantanamo Bay\",\"searches\":5},{\"country\":\"Uzbekistan\",\"searches\":67},{\"country\":\"Vatican\",\"searches\":729},{\"country\":\"St. Vin. and Gren.\",\"searches\":20},{\"country\":\"Venezuela\",\"searches\":155},{\"country\":\"Vietnam\",\"searches\":955},{\"country\":\"Vanuatu\",\"searches\":832},{\"country\":\"Akrotiri\",\"searches\":328},{\"country\":\"Samoa\",\"searches\":9},{\"country\":\"Yemen\",\"searches\":380},{\"country\":\"South Africa\",\"searches\":785},{\"country\":\"Zambia\",\"searches\":37},{\"country\":\"Zimbabwe\",\"searches\":496}], {\"_id\": \"Jarvis_2_map\", \"enable_click_to_center\": true, \"geo_value_column\": \"searches\", \"TEMPLATE_FILE\": \"chartBuilder.html\", \"geo_unit_column\": \"country\", \"df_json\": \"[{\\\"country\\\":\\\"Afghanistan\\\",\\\"searches\\\":356},{\\\"country\\\":\\\"Angola\\\",\\\"searches\\\":740},{\\\"country\\\":\\\"Albania\\\",\\\"searches\\\":997},{\\\"country\\\":\\\"Aland\\\",\\\"searches\\\":504},{\\\"country\\\":\\\"Andorra\\\",\\\"searches\\\":370},{\\\"country\\\":\\\"United Arab Emirates\\\",\\\"searches\\\":479},{\\\"country\\\":\\\"Argentina\\\",\\\"searches\\\":425},{\\\"country\\\":\\\"Armenia\\\",\\\"searches\\\":43},{\\\"country\\\":\\\"Antarctica\\\",\\\"searches\\\":513},{\\\"country\\\":\\\"Fr. S. Antarctic Lands\\\",\\\"searches\\\":727},{\\\"country\\\":\\\"Australia\\\",\\\"searches\\\":481},{\\\"country\\\":\\\"Austria\\\",\\\"searches\\\":218},{\\\"country\\\":\\\"Azerbaijan\\\",\\\"searches\\\":531},{\\\"country\\\":\\\"Burundi\\\",\\\"searches\\\":670},{\\\"country\\\":\\\"Belgium\\\",\\\"searches\\\":466},{\\\"country\\\":\\\"Benin\\\",\\\"searches\\\":323},{\\\"country\\\":\\\"Burkina Faso\\\",\\\"searches\\\":253},{\\\"country\\\":\\\"Bangladesh\\\",\\\"searches\\\":626},{\\\"country\\\":\\\"Bulgaria\\\",\\\"searches\\\":333},{\\\"country\\\":\\\"Bahrain\\\",\\\"searches\\\":194},{\\\"country\\\":\\\"Bahamas\\\",\\\"searches\\\":795},{\\\"country\\\":\\\"Bosnia and Herz.\\\",\\\"searches\\\":19},{\\\"country\\\":\\\"Belarus\\\",\\\"searches\\\":198},{\\\"country\\\":\\\"Belize\\\",\\\"searches\\\":555},{\\\"country\\\":\\\"Bolivia\\\",\\\"searches\\\":164},{\\\"country\\\":\\\"Brazil\\\",\\\"searches\\\":103},{\\\"country\\\":\\\"Barbados\\\",\\\"searches\\\":610},{\\\"country\\\":\\\"Brunei\\\",\\\"searches\\\":158},{\\\"country\\\":\\\"Bhutan\\\",\\\"searches\\\":327},{\\\"country\\\":\\\"Botswana\\\",\\\"searches\\\":800},{\\\"country\\\":\\\"Central African Rep.\\\",\\\"searches\\\":169},{\\\"country\\\":\\\"Canada\\\",\\\"searches\\\":87},{\\\"country\\\":\\\"Switzerland\\\",\\\"searches\\\":217},{\\\"country\\\":\\\"Chile\\\",\\\"searches\\\":846},{\\\"country\\\":\\\"China\\\",\\\"searches\\\":154},{\\\"country\\\":\\\"C\\\\u032bte d'Ivoire\\\",\\\"searches\\\":925},{\\\"country\\\":\\\"Cameroon\\\",\\\"searches\\\":34},{\\\"country\\\":\\\"Cyprus U.N. Buffer Zone\\\",\\\"searches\\\":696},{\\\"country\\\":\\\"Dem. Rep. Congo\\\",\\\"searches\\\":132},{\\\"country\\\":\\\"Congo\\\",\\\"searches\\\":622},{\\\"country\\\":\\\"Colombia\\\",\\\"searches\\\":476},{\\\"country\\\":\\\"Comoros\\\",\\\"searches\\\":352},{\\\"country\\\":\\\"Cape Verde\\\",\\\"searches\\\":273},{\\\"country\\\":\\\"Costa Rica\\\",\\\"searches\\\":324},{\\\"country\\\":\\\"Cuba\\\",\\\"searches\\\":242},{\\\"country\\\":\\\"Cura\\\\u0324ao\\\",\\\"searches\\\":193},{\\\"country\\\":\\\"N. Cyprus\\\",\\\"searches\\\":488},{\\\"country\\\":\\\"Cyprus\\\",\\\"searches\\\":160},{\\\"country\\\":\\\"Czech Rep.\\\",\\\"searches\\\":207},{\\\"country\\\":\\\"Germany\\\",\\\"searches\\\":559},{\\\"country\\\":\\\"Djibouti\\\",\\\"searches\\\":275},{\\\"country\\\":\\\"Dominica\\\",\\\"searches\\\":815},{\\\"country\\\":\\\"Denmark\\\",\\\"searches\\\":694},{\\\"country\\\":\\\"Dominican Rep.\\\",\\\"searches\\\":988},{\\\"country\\\":\\\"Algeria\\\",\\\"searches\\\":505},{\\\"country\\\":\\\"Ecuador\\\",\\\"searches\\\":121},{\\\"country\\\":\\\"Egypt\\\",\\\"searches\\\":521},{\\\"country\\\":\\\"Eritrea\\\",\\\"searches\\\":223},{\\\"country\\\":\\\"Dhekelia\\\",\\\"searches\\\":667},{\\\"country\\\":\\\"Spain\\\",\\\"searches\\\":274},{\\\"country\\\":\\\"Estonia\\\",\\\"searches\\\":374},{\\\"country\\\":\\\"Ethiopia\\\",\\\"searches\\\":301},{\\\"country\\\":\\\"Finland\\\",\\\"searches\\\":289},{\\\"country\\\":\\\"Fiji\\\",\\\"searches\\\":378},{\\\"country\\\":\\\"Falkland Is.\\\",\\\"searches\\\":467},{\\\"country\\\":\\\"France\\\",\\\"searches\\\":600},{\\\"country\\\":\\\"Faeroe Is.\\\",\\\"searches\\\":102},{\\\"country\\\":\\\"Micronesia\\\",\\\"searches\\\":966},{\\\"country\\\":\\\"Gabon\\\",\\\"searches\\\":222},{\\\"country\\\":\\\"United Kingdom\\\",\\\"searches\\\":858},{\\\"country\\\":\\\"Georgia\\\",\\\"searches\\\":72},{\\\"country\\\":\\\"Ghana\\\",\\\"searches\\\":215},{\\\"country\\\":\\\"Gibraltar\\\",\\\"searches\\\":402},{\\\"country\\\":\\\"Guinea\\\",\\\"searches\\\":711},{\\\"country\\\":\\\"Gambia\\\",\\\"searches\\\":891},{\\\"country\\\":\\\"Guinea-Bissau\\\",\\\"searches\\\":906},{\\\"country\\\":\\\"Eq. Guinea\\\",\\\"searches\\\":973},{\\\"country\\\":\\\"Greece\\\",\\\"searches\\\":304},{\\\"country\\\":\\\"Grenada\\\",\\\"searches\\\":733},{\\\"country\\\":\\\"Greenland\\\",\\\"searches\\\":921},{\\\"country\\\":\\\"Guatemala\\\",\\\"searches\\\":562},{\\\"country\\\":\\\"Guam\\\",\\\"searches\\\":144},{\\\"country\\\":\\\"Guyana\\\",\\\"searches\\\":603},{\\\"country\\\":\\\"Hong Kong\\\",\\\"searches\\\":138},{\\\"country\\\":\\\"Heard I. and McDonald Is.\\\",\\\"searches\\\":693},{\\\"country\\\":\\\"Honduras\\\",\\\"searches\\\":351},{\\\"country\\\":\\\"Croatia\\\",\\\"searches\\\":542},{\\\"country\\\":\\\"Haiti\\\",\\\"searches\\\":430},{\\\"country\\\":\\\"Hungary\\\",\\\"searches\\\":119},{\\\"country\\\":\\\"Indonesia\\\",\\\"searches\\\":849},{\\\"country\\\":\\\"Isle of Man\\\",\\\"searches\\\":580},{\\\"country\\\":\\\"India\\\",\\\"searches\\\":763},{\\\"country\\\":\\\"Ireland\\\",\\\"searches\\\":477},{\\\"country\\\":\\\"Iran\\\",\\\"searches\\\":691},{\\\"country\\\":\\\"Iraq\\\",\\\"searches\\\":556},{\\\"country\\\":\\\"Iceland\\\",\\\"searches\\\":320},{\\\"country\\\":\\\"Israel\\\",\\\"searches\\\":947},{\\\"country\\\":\\\"Italy\\\",\\\"searches\\\":1},{\\\"country\\\":\\\"Jamaica\\\",\\\"searches\\\":302},{\\\"country\\\":\\\"Jordan\\\",\\\"searches\\\":796},{\\\"country\\\":\\\"Japan\\\",\\\"searches\\\":669},{\\\"country\\\":\\\"Baikonur\\\",\\\"searches\\\":322},{\\\"country\\\":\\\"Siachen Glacier\\\",\\\"searches\\\":867},{\\\"country\\\":\\\"Kazakhstan\\\",\\\"searches\\\":520},{\\\"country\\\":\\\"Kenya\\\",\\\"searches\\\":862},{\\\"country\\\":\\\"Kyrgyzstan\\\",\\\"searches\\\":184},{\\\"country\\\":\\\"Cambodia\\\",\\\"searches\\\":373},{\\\"country\\\":\\\"Kiribati\\\",\\\"searches\\\":535},{\\\"country\\\":\\\"Korea\\\",\\\"searches\\\":805},{\\\"country\\\":\\\"Kosovo\\\",\\\"searches\\\":809},{\\\"country\\\":\\\"Kuwait\\\",\\\"searches\\\":678},{\\\"country\\\":\\\"Lao PDR\\\",\\\"searches\\\":35},{\\\"country\\\":\\\"Lebanon\\\",\\\"searches\\\":916},{\\\"country\\\":\\\"Liberia\\\",\\\"searches\\\":919},{\\\"country\\\":\\\"Libya\\\",\\\"searches\\\":507},{\\\"country\\\":\\\"Saint Lucia\\\",\\\"searches\\\":64},{\\\"country\\\":\\\"Liechtenstein\\\",\\\"searches\\\":741},{\\\"country\\\":\\\"Sri Lanka\\\",\\\"searches\\\":721},{\\\"country\\\":\\\"Lesotho\\\",\\\"searches\\\":243},{\\\"country\\\":\\\"Lithuania\\\",\\\"searches\\\":552},{\\\"country\\\":\\\"Luxembourg\\\",\\\"searches\\\":976},{\\\"country\\\":\\\"Latvia\\\",\\\"searches\\\":314},{\\\"country\\\":\\\"St-Martin\\\",\\\"searches\\\":335},{\\\"country\\\":\\\"Morocco\\\",\\\"searches\\\":719},{\\\"country\\\":\\\"Monaco\\\",\\\"searches\\\":583},{\\\"country\\\":\\\"Moldova\\\",\\\"searches\\\":494},{\\\"country\\\":\\\"Madagascar\\\",\\\"searches\\\":941},{\\\"country\\\":\\\"Mexico\\\",\\\"searches\\\":871},{\\\"country\\\":\\\"Macedonia\\\",\\\"searches\\\":227},{\\\"country\\\":\\\"Mali\\\",\\\"searches\\\":629},{\\\"country\\\":\\\"Myanmar\\\",\\\"searches\\\":789},{\\\"country\\\":\\\"Montenegro\\\",\\\"searches\\\":576},{\\\"country\\\":\\\"Mongolia\\\",\\\"searches\\\":851},{\\\"country\\\":\\\"Mozambique\\\",\\\"searches\\\":601},{\\\"country\\\":\\\"Mauritania\\\",\\\"searches\\\":245},{\\\"country\\\":\\\"Mauritius\\\",\\\"searches\\\":903},{\\\"country\\\":\\\"Malawi\\\",\\\"searches\\\":268},{\\\"country\\\":\\\"Malaysia\\\",\\\"searches\\\":225},{\\\"country\\\":\\\"Namibia\\\",\\\"searches\\\":291},{\\\"country\\\":\\\"New Caledonia\\\",\\\"searches\\\":686},{\\\"country\\\":\\\"Niger\\\",\\\"searches\\\":900},{\\\"country\\\":\\\"Nigeria\\\",\\\"searches\\\":447},{\\\"country\\\":\\\"Nicaragua\\\",\\\"searches\\\":454},{\\\"country\\\":\\\"Netherlands\\\",\\\"searches\\\":28},{\\\"country\\\":\\\"Norway\\\",\\\"searches\\\":497},{\\\"country\\\":\\\"Nepal\\\",\\\"searches\\\":423},{\\\"country\\\":\\\"New Zealand\\\",\\\"searches\\\":716},{\\\"country\\\":\\\"Oman\\\",\\\"searches\\\":450},{\\\"country\\\":\\\"Pakistan\\\",\\\"searches\\\":637},{\\\"country\\\":\\\"Panama\\\",\\\"searches\\\":536},{\\\"country\\\":\\\"Peru\\\",\\\"searches\\\":965},{\\\"country\\\":\\\"Philippines\\\",\\\"searches\\\":656},{\\\"country\\\":\\\"Palau\\\",\\\"searches\\\":680},{\\\"country\\\":\\\"Papua New Guinea\\\",\\\"searches\\\":821},{\\\"country\\\":\\\"Poland\\\",\\\"searches\\\":853},{\\\"country\\\":\\\"Puerto Rico\\\",\\\"searches\\\":415},{\\\"country\\\":\\\"Dem. Rep. Korea\\\",\\\"searches\\\":880},{\\\"country\\\":\\\"Portugal\\\",\\\"searches\\\":346},{\\\"country\\\":\\\"Paraguay\\\",\\\"searches\\\":47},{\\\"country\\\":\\\"Palestine\\\",\\\"searches\\\":219},{\\\"country\\\":\\\"Fr. Polynesia\\\",\\\"searches\\\":12},{\\\"country\\\":\\\"Qatar\\\",\\\"searches\\\":808},{\\\"country\\\":\\\"Romania\\\",\\\"searches\\\":527},{\\\"country\\\":\\\"Russia\\\",\\\"searches\\\":73},{\\\"country\\\":\\\"Rwanda\\\",\\\"searches\\\":357},{\\\"country\\\":\\\"W. Sahara\\\",\\\"searches\\\":76},{\\\"country\\\":\\\"Saudi Arabia\\\",\\\"searches\\\":52},{\\\"country\\\":\\\"Sudan\\\",\\\"searches\\\":220},{\\\"country\\\":\\\"S. Sudan\\\",\\\"searches\\\":441},{\\\"country\\\":\\\"Senegal\\\",\\\"searches\\\":188},{\\\"country\\\":\\\"Singapore\\\",\\\"searches\\\":930},{\\\"country\\\":\\\"S. Geo. and S. Sandw. Is.\\\",\\\"searches\\\":484},{\\\"country\\\":\\\"Solomon Is.\\\",\\\"searches\\\":105},{\\\"country\\\":\\\"Sierra Leone\\\",\\\"searches\\\":690},{\\\"country\\\":\\\"El Salvador\\\",\\\"searches\\\":45},{\\\"country\\\":\\\"San Marino\\\",\\\"searches\\\":79},{\\\"country\\\":\\\"Somaliland\\\",\\\"searches\\\":588},{\\\"country\\\":\\\"Somalia\\\",\\\"searches\\\":802},{\\\"country\\\":\\\"Serbia\\\",\\\"searches\\\":798},{\\\"country\\\":\\\"S\\\\u0323o Tom\\\\u0329 and Principe\\\",\\\"searches\\\":855},{\\\"country\\\":\\\"Suriname\\\",\\\"searches\\\":460},{\\\"country\\\":\\\"Slovakia\\\",\\\"searches\\\":838},{\\\"country\\\":\\\"Slovenia\\\",\\\"searches\\\":92},{\\\"country\\\":\\\"Sweden\\\",\\\"searches\\\":566},{\\\"country\\\":\\\"Swaziland\\\",\\\"searches\\\":241},{\\\"country\\\":\\\"Sint Maarten\\\",\\\"searches\\\":887},{\\\"country\\\":\\\"Syria\\\",\\\"searches\\\":651},{\\\"country\\\":\\\"Chad\\\",\\\"searches\\\":502},{\\\"country\\\":\\\"Togo\\\",\\\"searches\\\":964},{\\\"country\\\":\\\"Thailand\\\",\\\"searches\\\":411},{\\\"country\\\":\\\"Tajikistan\\\",\\\"searches\\\":857},{\\\"country\\\":\\\"Turkmenistan\\\",\\\"searches\\\":655},{\\\"country\\\":\\\"Timor-Leste\\\",\\\"searches\\\":745},{\\\"country\\\":\\\"Tonga\\\",\\\"searches\\\":231},{\\\"country\\\":\\\"Trinidad and Tobago\\\",\\\"searches\\\":33},{\\\"country\\\":\\\"Tunisia\\\",\\\"searches\\\":250},{\\\"country\\\":\\\"Turkey\\\",\\\"searches\\\":592},{\\\"country\\\":\\\"Taiwan\\\",\\\"searches\\\":512},{\\\"country\\\":\\\"Tanzania\\\",\\\"searches\\\":854},{\\\"country\\\":\\\"Uganda\\\",\\\"searches\\\":473},{\\\"country\\\":\\\"Ukraine\\\",\\\"searches\\\":621},{\\\"country\\\":\\\"Uruguay\\\",\\\"searches\\\":617},{\\\"country\\\":\\\"United States\\\",\\\"searches\\\":510},{\\\"country\\\":\\\"USNB Guantanamo Bay\\\",\\\"searches\\\":5},{\\\"country\\\":\\\"Uzbekistan\\\",\\\"searches\\\":67},{\\\"country\\\":\\\"Vatican\\\",\\\"searches\\\":729},{\\\"country\\\":\\\"St. Vin. and Gren.\\\",\\\"searches\\\":20},{\\\"country\\\":\\\"Venezuela\\\",\\\"searches\\\":155},{\\\"country\\\":\\\"Vietnam\\\",\\\"searches\\\":955},{\\\"country\\\":\\\"Vanuatu\\\",\\\"searches\\\":832},{\\\"country\\\":\\\"Akrotiri\\\",\\\"searches\\\":328},{\\\"country\\\":\\\"Samoa\\\",\\\"searches\\\":9},{\\\"country\\\":\\\"Yemen\\\",\\\"searches\\\":380},{\\\"country\\\":\\\"South Africa\\\",\\\"searches\\\":785},{\\\"country\\\":\\\"Zambia\\\",\\\"searches\\\":37},{\\\"country\\\":\\\"Zimbabwe\\\",\\\"searches\\\":496}]\", \"enable_zoom\": true, \"chart_type\": \"map\", \"filters\": null, \"map_type\": \"orthographic\", \"model\": \"Jarvis\", \"series_count\": 2})\n",
       "\n",
       "</script>\n",
       "\n",
       "</body>\n",
       "</html>"
      ],
      "text/plain": [
       "<IPython.core.display.HTML object>"
      ]
     },
     "metadata": {},
     "output_type": "display_data"
    }
   ],
   "source": [
    "chart = Jarvis(dataframe = df, chart_type = \"map\", map_type = \"orthographic\" ,\n",
    "              unit = 'country', values = 'searches', enable_zoom= True, enable_click_to_center = True)\n",
    "\n",
    "chart.show()"
   ]
  },
  {
   "cell_type": "code",
   "execution_count": null,
   "metadata": {
    "collapsed": true
   },
   "outputs": [],
   "source": []
  }
 ],
 "metadata": {
  "kernelspec": {
   "display_name": "Python 2",
   "language": "python",
   "name": "python2"
  },
  "language_info": {
   "codemirror_mode": {
    "name": "ipython",
    "version": 2
   },
   "file_extension": ".py",
   "mimetype": "text/x-python",
   "name": "python",
   "nbconvert_exporter": "python",
   "pygments_lexer": "ipython2",
   "version": "2.7.10"
  }
 },
 "nbformat": 4,
 "nbformat_minor": 1
}
