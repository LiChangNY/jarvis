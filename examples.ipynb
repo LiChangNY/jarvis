{
 "cells": [
  {
   "cell_type": "code",
   "execution_count": 1,
   "metadata": {
    "collapsed": false
   },
   "outputs": [
    {
     "data": {
      "text/html": [
       "<link media=\"all\" href=\"files/d3.pyd3.css\" type=\"text/css\"\n",
       "                  rel=\"stylesheet\"/>"
      ],
      "text/plain": [
       "<IPython.core.display.HTML object>"
      ]
     },
     "metadata": {},
     "output_type": "execute_result"
    },
    {
     "data": {
      "text/html": [
       "<script src='files/d3.v3.min.js'></script>"
      ],
      "text/plain": [
       "<IPython.core.display.HTML object>"
      ]
     },
     "metadata": {},
     "output_type": "execute_result"
    },
    {
     "data": {
      "text/html": [
       "<script src='files/d3.pyd3.js'></script>"
      ],
      "text/plain": [
       "<IPython.core.display.HTML object>"
      ]
     },
     "metadata": {},
     "output_type": "execute_result"
    }
   ],
   "source": [
    "from twoAxesLineChart import twoAxesLineChart\n",
    "import pandas as pd\n",
    "import json"
   ]
  },
  {
   "cell_type": "code",
   "execution_count": 2,
   "metadata": {
    "collapsed": false
   },
   "outputs": [
    {
     "data": {
      "text/plain": [
       "'[{\"Date\":\"2015-01-01\",\"Series 1\":100,\"Series 2\":200,\"Series 3\":400},{\"Date\":\"2015-01-15\",\"Series 1\":20,\"Series 2\":60,\"Series 3\":200},{\"Date\":\"2015-02-01\",\"Series 1\":200,\"Series 2\":200,\"Series 3\":200},{\"Date\":\"2015-02-15\",\"Series 1\":40,\"Series 2\":90,\"Series 3\":20},{\"Date\":\"2015-03-01\",\"Series 1\":300,\"Series 2\":500,\"Series 3\":20}]'"
      ]
     },
     "execution_count": 2,
     "metadata": {},
     "output_type": "execute_result"
    }
   ],
   "source": [
    "df = pd.DataFrame(\n",
    "      [{'Date': '2015-01-01', \"Series 1\":100 , \"Series 2\": 200, \"Series 3\": 400 },\n",
    "      {'Date': '2015-01-15', \"Series 1\":20 , \"Series 2\": 60, \"Series 3\": 200 },\n",
    "      {'Date': '2015-02-01', \"Series 1\":200 , \"Series 2\": 200, \"Series 3\": 200 },\n",
    "      {'Date': '2015-02-15', \"Series 1\":40 , \"Series 2\": 90,  \"Series 3\": 20},\n",
    "      {'Date': '2015-03-01', \"Series 1\":300 , \"Series 2\": 500,  \"Series 3\": 20},]\n",
    ")\n",
    " \n",
    "df_to_json = df.to_json(orient='records')\n",
    "df_to_json"
   ]
  },
  {
   "cell_type": "code",
   "execution_count": 3,
   "metadata": {
    "collapsed": false
   },
   "outputs": [
    {
     "name": "stdout",
     "output_type": "stream",
     "text": [
      "Help on class twoAxesLineChart in module twoAxesLineChart:\n",
      "\n",
      "class twoAxesLineChart(__builtin__.object)\n",
      " |  Methods defined here:\n",
      " |  \n",
      " |  __init__(self, dataframe, **kwargs)\n",
      " |  \n",
      " |  show(self)\n",
      " |  \n",
      " |  ----------------------------------------------------------------------\n",
      " |  Data descriptors defined here:\n",
      " |  \n",
      " |  __dict__\n",
      " |      dictionary for instance variables (if defined)\n",
      " |  \n",
      " |  __weakref__\n",
      " |      list of weak references to the object (if defined)\n",
      " |  \n",
      " |  ----------------------------------------------------------------------\n",
      " |  Data and other attributes defined here:\n",
      " |  \n",
      " |  css_url = u'files/d3.pyd3.css'\n",
      " |  \n",
      " |  d3_js_url = u'files/d3.v3.min.js'\n",
      " |  \n",
      " |  pyd3_js_url = u'files/d3.pyd3.js'\n",
      "\n"
     ]
    },
    {
     "data": {
      "text/plain": [
       "<dictproxy {'__dict__': <attribute '__dict__' of 'twoAxesLineChart' objects>,\n",
       " '__doc__': None,\n",
       " '__init__': <function twoAxesLineChart.__init__>,\n",
       " '__module__': 'twoAxesLineChart',\n",
       " '__weakref__': <attribute '__weakref__' of 'twoAxesLineChart' objects>,\n",
       " 'css_url': u'files/d3.pyd3.css',\n",
       " 'd3_js_url': u'files/d3.v3.min.js',\n",
       " 'pyd3_js_url': u'files/d3.pyd3.js',\n",
       " 'show': <function twoAxesLineChart.show>}>"
      ]
     },
     "execution_count": 3,
     "metadata": {},
     "output_type": "execute_result"
    }
   ],
   "source": [
    "help(twoAxesLineChart)\n",
    "\n",
    "twoAxesLineChart.__dict__"
   ]
  },
  {
   "cell_type": "code",
   "execution_count": 4,
   "metadata": {
    "collapsed": false,
    "scrolled": false
   },
   "outputs": [
    {
     "data": {
      "text/html": [
       "<!DOCTYPE html>\n",
       "<meta charset='utf-8'>\n",
       "<head>\n",
       "\n",
       "</head>\n",
       "\n",
       "<div id=\"chart1\"></div>\n",
       "\n",
       "<body>\n",
       "\n",
       "\n",
       "<script type=\"text/javascript\">\n",
       "\n",
       "   drawChart([{\"Date\":\"2015-01-01\",\"Series 1\":100,\"Series 2\":200,\"Series 3\":400},{\"Date\":\"2015-01-15\",\"Series 1\":20,\"Series 2\":60,\"Series 3\":200},{\"Date\":\"2015-02-01\",\"Series 1\":200,\"Series 2\":200,\"Series 3\":200},{\"Date\":\"2015-02-15\",\"Series 1\":40,\"Series 2\":90,\"Series 3\":20},{\"Date\":\"2015-03-01\",\"Series 1\":300,\"Series 2\":500,\"Series 3\":20}], {\"series_count\": 4, \"TEMPLATE_FILE\": \"twoAxesLineChart.html\", \"width\": 780, \"y_axis_title\": \"y axis title goes here\", \"canvas_height\": 400, \"df_json\": \"[{\\\"Date\\\":\\\"2015-01-01\\\",\\\"Series 1\\\":100,\\\"Series 2\\\":200,\\\"Series 3\\\":400},{\\\"Date\\\":\\\"2015-01-15\\\",\\\"Series 1\\\":20,\\\"Series 2\\\":60,\\\"Series 3\\\":200},{\\\"Date\\\":\\\"2015-02-01\\\",\\\"Series 1\\\":200,\\\"Series 2\\\":200,\\\"Series 3\\\":200},{\\\"Date\\\":\\\"2015-02-15\\\",\\\"Series 1\\\":40,\\\"Series 2\\\":90,\\\"Series 3\\\":20},{\\\"Date\\\":\\\"2015-03-01\\\",\\\"Series 1\\\":300,\\\"Series 2\\\":500,\\\"Series 3\\\":20}]\", \"height\": 300, \"margin_right\": 100, \"x_axis_title\": \"x axis title goes here\", \"second_y_axis_title\": \"\", \"margin_left\": 80, \"x_serie\": \"Date\", \"margin_bottom\": 60, \"chart_title\": \"Chart Title Goes Here\", \"margin_top\": 40, \"interpolation_method\": \"cardinal\", \"y_series\": [\"Series 1\", \"Series 2\", \"Series 3\"], \"canvas_width\": 960});\n",
       "\n",
       "</script>"
      ],
      "text/plain": [
       "<IPython.core.display.HTML object>"
      ]
     },
     "metadata": {},
     "output_type": "execute_result"
    }
   ],
   "source": [
    "chart = twoAxesLineChart(dataframe = df,\n",
    "                         x_axis_title = 'x axis title goes here', \n",
    "                         y_axis_title = 'y axis title goes here', \n",
    "                         chart_title = 'Chart Title Goes Here',\n",
    "                       )\n",
    "\n",
    "chart.show()"
   ]
  },
  {
   "cell_type": "code",
   "execution_count": null,
   "metadata": {
    "collapsed": true
   },
   "outputs": [],
   "source": [
    ""
   ]
  }
 ],
 "metadata": {
  "kernelspec": {
   "display_name": "Python 2",
   "language": "python",
   "name": "python2"
  },
  "language_info": {
   "codemirror_mode": {
    "name": "ipython",
    "version": 2.0
   },
   "file_extension": ".py",
   "mimetype": "text/x-python",
   "name": "python",
   "nbconvert_exporter": "python",
   "pygments_lexer": "ipython2",
   "version": "2.7.10"
  }
 },
 "nbformat": 4,
 "nbformat_minor": 0
}