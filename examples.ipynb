{
 "cells": [
  {
   "cell_type": "code",
   "execution_count": null,
   "metadata": {
    "collapsed": false
   },
   "outputs": [],
   "source": [
    "from twoAxesLineChart import twoAxesLineChart\n",
    "import pandas as pd\n",
    "import json"
   ]
  },
  {
   "cell_type": "code",
   "execution_count": null,
   "metadata": {
    "collapsed": false
   },
   "outputs": [],
   "source": [
    "df = pd.DataFrame(\n",
    "      [{'Date': '2015-01-01', \"Series 1\":100 , \"Series 2\": 200, \"Series 3\": 400 },\n",
    "      {'Date': '2015-01-15', \"Series 1\":20 , \"Series 2\": 60, \"Series 3\": 200 },\n",
    "      {'Date': '2015-02-01', \"Series 1\":200 , \"Series 2\": 200, \"Series 3\": 200 },\n",
    "      {'Date': '2015-02-15', \"Series 1\":40 , \"Series 2\": 90,  \"Series 3\": 20},\n",
    "      {'Date': '2015-03-01', \"Series 1\":300 , \"Series 2\": 500,  \"Series 3\": 20},]\n",
    ")\n",
    " \n",
    "df_to_json = df.to_json(orient='records')\n",
    "df_to_json"
   ]
  },
  {
   "cell_type": "code",
   "execution_count": null,
   "metadata": {
    "collapsed": false,
    "scrolled": true
   },
   "outputs": [],
   "source": [
    "chart = twoAxesLineChart(df)\n",
    "chart.show()"
   ]
  },
  {
   "cell_type": "code",
   "execution_count": null,
   "metadata": {
    "collapsed": false
   },
   "outputs": [],
   "source": [
    "print chart.__class__\n",
    "chart.x_serie"
   ]
  },
  {
   "cell_type": "code",
   "execution_count": null,
   "metadata": {
    "collapsed": false
   },
   "outputs": [],
   "source": [
    "list(df.columns.values)[1: len(df.columns)]"
   ]
  },
  {
   "cell_type": "code",
   "execution_count": null,
   "metadata": {
    "collapsed": true
   },
   "outputs": [],
   "source": []
  }
 ],
 "metadata": {
  "kernelspec": {
   "display_name": "Python 2",
   "language": "python",
   "name": "python2"
  },
  "language_info": {
   "codemirror_mode": {
    "name": "ipython",
    "version": 2
   },
   "file_extension": ".py",
   "mimetype": "text/x-python",
   "name": "python",
   "nbconvert_exporter": "python",
   "pygments_lexer": "ipython2",
   "version": "2.7.10"
  }
 },
 "nbformat": 4,
 "nbformat_minor": 0
}
